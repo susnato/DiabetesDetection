{
 "cells": [
  {
   "cell_type": "code",
   "id": "initial_id",
   "metadata": {
    "collapsed": true,
    "ExecuteTime": {
     "end_time": "2024-04-07T19:36:29.258395Z",
     "start_time": "2024-04-07T19:36:29.243890Z"
    }
   },
   "source": [
    "import requests\n",
    "\n",
    "test_data = [[1, 2,3,4,5,6,7,8]]\n",
    "data = {\"inputs\": [{\"name\": \"input__0\", \"datatype\": \"FP32\", \"shape\": [1,8], \"data\": test_data}]}\n",
    "response = requests.post('http://localhost:8000/v2/models/xgb/infer', json=data)\n",
    "\n"
   ],
   "outputs": [
    {
     "data": {
      "text/plain": [
       "b'{\"model_name\":\"xgb\",\"model_version\":\"1\",\"outputs\":[{\"name\":\"output__0\",\"datatype\":\"FP32\",\"shape\":[1,2],\"data\":[0.882816731929779,0.11718327552080155]}]}'"
      ]
     },
     "execution_count": 3,
     "metadata": {},
     "output_type": "execute_result"
    }
   ],
   "execution_count": 3
  },
  {
   "metadata": {
    "ExecuteTime": {
     "end_time": "2024-04-07T19:38:04.347411Z",
     "start_time": "2024-04-07T19:38:04.342559Z"
    }
   },
   "cell_type": "code",
   "source": [
    "import json\n",
    "json.loads(response.content.decode(\"utf-8\"))[\"outputs\"][0][\"data\"][1]"
   ],
   "id": "9c4a45f5a3e70b4c",
   "outputs": [
    {
     "data": {
      "text/plain": [
       "0.11718327552080154"
      ]
     },
     "execution_count": 17,
     "metadata": {},
     "output_type": "execute_result"
    }
   ],
   "execution_count": 17
  },
  {
   "metadata": {},
   "cell_type": "code",
   "outputs": [],
   "execution_count": null,
   "source": "",
   "id": "f6666ab43444e7ae"
  }
 ],
 "metadata": {
  "kernelspec": {
   "display_name": "Python 3",
   "language": "python",
   "name": "python3"
  },
  "language_info": {
   "codemirror_mode": {
    "name": "ipython",
    "version": 2
   },
   "file_extension": ".py",
   "mimetype": "text/x-python",
   "name": "python",
   "nbconvert_exporter": "python",
   "pygments_lexer": "ipython2",
   "version": "2.7.6"
  }
 },
 "nbformat": 4,
 "nbformat_minor": 5
}
