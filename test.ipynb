{
 "cells": [
  {
   "cell_type": "code",
   "id": "initial_id",
   "metadata": {
    "collapsed": true,
    "ExecuteTime": {
     "end_time": "2024-04-05T19:14:24.955904Z",
     "start_time": "2024-04-05T19:14:24.788719Z"
    }
   },
   "source": [
    "import xgboost\n",
    "\n",
    "model = xgboost.XGBClassifier()"
   ],
   "outputs": [],
   "execution_count": 1
  },
  {
   "metadata": {
    "ExecuteTime": {
     "end_time": "2024-04-05T19:14:41.773344Z",
     "start_time": "2024-04-05T19:14:41.699555Z"
    }
   },
   "cell_type": "code",
   "source": "model.load_model(\"./triton_files/xgb/1/xgboost.json\")",
   "id": "da9889a9dfe0cb11",
   "outputs": [],
   "execution_count": 2
  },
  {
   "metadata": {
    "ExecuteTime": {
     "end_time": "2024-04-05T19:14:49.336868Z",
     "start_time": "2024-04-05T19:14:49.328916Z"
    }
   },
   "cell_type": "code",
   "source": "model.predict([[1,2,3,4,5,6,7,8]])",
   "id": "da4d9c92623e0067",
   "outputs": [
    {
     "data": {
      "text/plain": [
       "array([0])"
      ]
     },
     "execution_count": 4,
     "metadata": {},
     "output_type": "execute_result"
    }
   ],
   "execution_count": 4
  },
  {
   "metadata": {},
   "cell_type": "code",
   "outputs": [],
   "execution_count": null,
   "source": "",
   "id": "a5947f874734eac6"
  }
 ],
 "metadata": {
  "kernelspec": {
   "display_name": "Python 3",
   "language": "python",
   "name": "python3"
  },
  "language_info": {
   "codemirror_mode": {
    "name": "ipython",
    "version": 2
   },
   "file_extension": ".py",
   "mimetype": "text/x-python",
   "name": "python",
   "nbconvert_exporter": "python",
   "pygments_lexer": "ipython2",
   "version": "2.7.6"
  }
 },
 "nbformat": 4,
 "nbformat_minor": 5
}
